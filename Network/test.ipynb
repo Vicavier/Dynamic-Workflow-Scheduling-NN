{
 "cells": [
  {
   "cell_type": "code",
   "execution_count": 1,
   "metadata": {
    "collapsed": true,
    "pycharm": {
     "name": "#%%\n"
    }
   },
   "outputs": [
    {
     "data": {
      "text/plain": "array([[2., 2., 2., ..., 2., 2., 2.],\n       [2., 2., 2., ..., 2., 2., 2.],\n       [4., 4., 4., ..., 4., 4., 4.],\n       ...,\n       [6., 4., 9., ..., 2., 3., 6.],\n       [6., 4., 9., ..., 2., 3., 6.],\n       [6., 9., 9., ..., 2., 7., 3.]], dtype=float32)"
     },
     "execution_count": 1,
     "metadata": {},
     "output_type": "execute_result"
    }
   ],
   "source": [
    "import numpy as np\n",
    "\n",
    "data0 = np.load(\"y_train.npy\")\n",
    "data1 = np.load(\"y_pred.npy\")\n",
    "data0"
   ]
  },
  {
   "cell_type": "code",
   "execution_count": 2,
   "outputs": [
    {
     "data": {
      "text/plain": "array([[1.9988742, 2.0719137, 1.8994867, ..., 1.9197476, 1.9226274,\n        1.9661725],\n       [1.9988742, 2.0719137, 1.8994867, ..., 1.9197476, 1.9226274,\n        1.9661725],\n       [3.9432654, 4.1041183, 3.7689319, ..., 3.8780115, 3.8504841,\n        3.8292553],\n       ...,\n       [6.0418525, 4.259069 , 8.932325 , ..., 1.7980913, 2.7777467,\n        5.910797 ],\n       [6.1229267, 4.302995 , 8.764974 , ..., 1.675487 , 2.7111883,\n        5.884022 ],\n       [6.0217295, 9.092089 , 9.087249 , ..., 1.6733606, 6.6432056,\n        2.893475 ]], dtype=float32)"
     },
     "execution_count": 2,
     "metadata": {},
     "output_type": "execute_result"
    }
   ],
   "source": [
    "data1"
   ],
   "metadata": {
    "collapsed": false,
    "pycharm": {
     "name": "#%%\n"
    }
   }
  },
  {
   "cell_type": "code",
   "execution_count": 5,
   "outputs": [
    {
     "data": {
      "text/plain": "0"
     },
     "execution_count": 5,
     "metadata": {},
     "output_type": "execute_result"
    }
   ],
   "source": [
    "from decimal import Decimal\n",
    "a =\n",
    "b = Decimal(a).quantize(Decimal(\"1.\"), rounding = \"ROUND_HALF_UP\")\n",
    "int(b)"
   ],
   "metadata": {
    "collapsed": false,
    "pycharm": {
     "name": "#%%\n"
    }
   }
  },
  {
   "cell_type": "code",
   "execution_count": 5,
   "outputs": [
    {
     "data": {
      "text/plain": "7"
     },
     "execution_count": 5,
     "metadata": {},
     "output_type": "execute_result"
    }
   ],
   "source": [
    "79 // 10"
   ],
   "metadata": {
    "collapsed": false,
    "pycharm": {
     "name": "#%%\n"
    }
   }
  }
 ],
 "metadata": {
  "kernelspec": {
   "display_name": "Python 3",
   "language": "python",
   "name": "python3"
  },
  "language_info": {
   "codemirror_mode": {
    "name": "ipython",
    "version": 2
   },
   "file_extension": ".py",
   "mimetype": "text/x-python",
   "name": "python",
   "nbconvert_exporter": "python",
   "pygments_lexer": "ipython2",
   "version": "2.7.6"
  }
 },
 "nbformat": 4,
 "nbformat_minor": 0
}